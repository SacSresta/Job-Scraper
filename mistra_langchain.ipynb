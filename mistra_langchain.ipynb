{
 "cells": [
  {
   "cell_type": "code",
   "execution_count": 1,
   "metadata": {},
   "outputs": [
    {
     "name": "stderr",
     "output_type": "stream",
     "text": [
      "\n",
      "[notice] A new release of pip is available: 24.0 -> 24.3.1\n",
      "[notice] To update, run: C:\\Users\\sachi\\AppData\\Local\\Microsoft\\WindowsApps\\PythonSoftwareFoundation.Python.3.11_qbz5n2kfra8p0\\python.exe -m pip install --upgrade pip\n"
     ]
    }
   ],
   "source": [
    "!pip install -qU langchain-mistralai"
   ]
  },
  {
   "cell_type": "code",
   "execution_count": 3,
   "metadata": {},
   "outputs": [],
   "source": [
    "import os\n",
    "from dotenv import load_dotenv\n",
    "\n",
    "load_dotenv()\n",
    "\n",
    "api_key = os.getenv('mistral_api_key')\n",
    "os.environ[\"MISTRAL_API_KEY\"] = api_key\n",
    "\n",
    "from langchain_mistralai import ChatMistralAI\n",
    "\n",
    "model = ChatMistralAI(model=\"mistral-large-latest\")"
   ]
  },
  {
   "cell_type": "code",
   "execution_count": 9,
   "metadata": {},
   "outputs": [],
   "source": [
    "import PyPDF2\n",
    "\n",
    "def extract_text_from_pdf(file_path):\n",
    "    text = \"\"\n",
    "    with open(file_path, 'rb') as pdf_file:\n",
    "        reader = PyPDF2.PdfReader(pdf_file)\n",
    "        for page in reader.pages:\n",
    "            text += page.extract_text()\n",
    "    return text\n"
   ]
  },
  {
   "cell_type": "code",
   "execution_count": 10,
   "metadata": {},
   "outputs": [],
   "source": [
    "import pandas as pd\n",
    "df = pd.read_csv('merged_df.csv')"
   ]
  },
  {
   "cell_type": "code",
   "execution_count": 38,
   "metadata": {},
   "outputs": [
    {
     "name": "stdout",
     "output_type": "stream",
     "text": [
      "Sacheen Shrestha\n",
      "sachin.shrestha42@gmail.com\n",
      "0415129055\n",
      "Sydney, Australia\n",
      "\n",
      "Hiring Manager\n",
      "\n",
      "Dear Hiring Manager,\n",
      "\n",
      "I am writing to express my interest in the Business Process Analyst position within the higher education sector, as advertised. With a strong background in data science, AI, and process improvement, I am enthusiastic about the opportunity to contribute to enhancing work-integrated learning (WIL) processes and driving impactful change in your dynamic project environment.\n",
      "\n",
      "Currently pursuing a Bachelor of Business Information System at the Australian Institute of Higher Education, I have developed a robust skill set in data analysis, machine learning, and software engineering. My technical expertise, coupled with my analytical and problem-solving abilities, positions me well to design, analyse, and implement efficient business processes using BPMN.\n",
      "\n",
      "In my role as a Data Scientist and AI Engineer, I have honed my skills in process mapping, data mining, and statistical analysis. My experience in developing and refining complex systems, such as a full-stack e-commerce site using Django and a trading bot built on the NNFX algorithm, demonstrates my capability to handle intricate projects from inception to deployment. These projects required meticulous attention to detail, stakeholder collaboration, and the ability to translate business needs into technical solutions—skills that are directly transferable to the Business Process Analyst role.\n",
      "\n",
      "My proficiency in Python, SQL, and various data visualization tools like Power BI and Tableau enables me to analyse existing processes, identify inefficiencies, and recommend improvements effectively. I am confident in my ability to facilitate workshops, gather stakeholder feedback, and provide training and support to staff on new processes and tools. My strong communication skills, both verbal and written, ensure that I can present complex data findings clearly and actionably, fostering a collaborative team environment.\n",
      "\n",
      "I am particularly drawn to this role because of its focus on system integration and enhancing the end-user experience for students and industry partners. My experience in software engineering and cloud computing platforms like AWS and Azure equips me to collaborate with project team members to align process development with technological updates seamlessly.\n",
      "\n",
      "I am excited about the opportunity to contribute to Troocoo and support the higher education sector in optimizing WIL programmes. I am confident that my unique blend of technical skills, analytical prowess, and passion for process improvement makes me a strong candidate for this position.\n",
      "\n",
      "Thank you for considering my application. I look forward to the opportunity to discuss how my background, skills, and certifications align with the needs of your team.\n",
      "\n",
      "Sincerely,\n",
      "Sacheen Shrestha\n"
     ]
    }
   ],
   "source": [
    "from langchain_core.prompts import ChatPromptTemplate\n",
    "\n",
    "# Define the system template\n",
    "system_template = (\n",
    "    \"You are an expert cover letter writer. Using the resume: {resume} \"\n",
    "    \"and the job description: {job_description}, craft a professional and tailored cover letter for the user. \"\n",
    "    \"Ensure the letter highlights the user's relevant skills, experience, and accomplishments. \"\n",
    "    \"Use the user's name, email, phone number, and location from the resume if provided, or leave them out if unavailable. \"\n",
    "    \"Do not use placeholders such as '[Your Name]', '[Your Address]', or '[Today’s Date]',[Recipient's Name],[Recipient's Job Title][Company Name][Company Address][City, State, Postcode].\"\n",
    ")\n",
    "\n",
    "\n",
    "# Sample data (replace with actual content)\n",
    "resume = extract_text_from_pdf(r'C:\\Users\\sachi\\OneDrive\\Documents\\JobAutomation\\DataAnalyst-Science.pdf')\n",
    "job_description = df['Description'][10]  # Ensure job description content is complete and relevant.\n",
    "\n",
    "# Define the prompt template\n",
    "prompt_template = ChatPromptTemplate.from_messages(\n",
    "    [\n",
    "        (\"system\", system_template),\n",
    "        (\"user\", \"{text}\"),\n",
    "    ]\n",
    ")\n",
    "\n",
    "# Chain setup\n",
    "chain = prompt_template | model\n",
    "response = chain.invoke(\n",
    "    {\n",
    "        \"resume\": resume,\n",
    "        \"job_description\": job_description,\n",
    "        \"text\": \"Please write a compelling and complete cover letter without leaving any section blank, and use the name from the resume if not found leave but no placeholders\",\n",
    "    }\n",
    ")\n",
    "\n",
    "# Output the result\n",
    "print(response.content)\n"
   ]
  },
  {
   "cell_type": "code",
   "execution_count": 32,
   "metadata": {},
   "outputs": [
    {
     "data": {
      "text/plain": [
       "'Sacheen Shrestha\\nData Scientist | AI Engineer | Data Analyst\\nsachin.shrestha42@gmail.com 0415129055 Sydney,Australia \\nlinkedin.com/in/sacheen-shrestha-338129299 \\nEDUCATION\\nBachelor of Business Information \\nSystem, Australian Institute of Higher \\nEducation\\n07/2022 – present | Sydney, Australia\\nPROJECTS\\nBasana Boutique, \\nFullstack Website using Django\\nDeveloped a fully functional e-commerce site \\ntailored for client requirements, handling \\nall aspects from design to deployment using \\nDjango, HTML, and CSS.\\nTrading Bot, \\nTrading Bot Build on NNFX algorithm\\nBuilt a fully automated trading bot capable \\nof executing orders based on the NNFX \\nalgorithm, utilizing Python and API \\nintegration for market analysis.\\nMovie Recommender System, \\nNLP | Machine Learning\\nCreated a recommendation system using NLP \\ntechniques and collaborative filtering to \\nprovide personalized movie suggestions.\\nText_Summarization, \\nNLP | Deep Learning Project\\nDeveloped a text summarization model \\nutilizing the DistilBERT architecture for \\nefficient text processing and summarization.\\nADDITONAL QUALIFICATIONS\\nGuest Service Agent, \\nPARKROYAL DarlingHarbour\\npresent | Sydney, AustraliaHighly accomplished data science\\nprofessional with expertise in machine\\nlearning, AI, and data analysis. Proven\\nability to distill complex datasets into\\nactionable insights, inform strategic\\ndecision-making, and pioneer innovative AI\\nsolutions.\\nSKILLS\\nData Analysis & Science\\nPython, SQL, Statistical Analysis, \\nData Mining, Data Visualization\\nMachine Learning & AI\\nTensorFlow, Deep Learning, Scikit-\\nLearn, Predictive Modeling, Natural \\nLanguage Processing, Pytorch\\nCloud Computing\\nAWS, Azure, Cloud Platforms\\nData-Driven Decision Making\\nA/B Testing, Experimental Design, Data \\nStorytelling\\nSoftware Engineering/Programming \\nLanguage\\nObject-Oriented Programming(OOP), \\nJava, Python, C++, \\nVersion Control\\nGit, Github\\nData Visualization\\nPower-BI, Tabluea, Seaborn, \\nMatplotlib, Plotly\\nCERTIFICATES\\nIBM Professional Data Science \\nCertificate\\nTechskills IT Support Level 1LANGUAGES\\nEnglish\\nNepali\\nHindiADDDITIONAL QUALIFICATION\\n•Technical Expertise: Strong knowledge of \\ndata models, database design, and data \\nmining techniques.\\n•Problem-Solving Abilities: Proven \\nanalytical skills with a keen attention to \\ndetail and accuracy in data \\ninterpretation.\\n•Communication Skills: Strong verbal and \\nwritten communication abilities to present \\ncomplex data findings in a clear and \\nactionable format.'"
      ]
     },
     "execution_count": 32,
     "metadata": {},
     "output_type": "execute_result"
    }
   ],
   "source": [
    "resume"
   ]
  },
  {
   "cell_type": "code",
   "execution_count": null,
   "metadata": {},
   "outputs": [
    {
     "name": "stdout",
     "output_type": "stream",
     "text": [
      "Sure, here's a rating of Sacheen Shrestha's resume based on various key aspects:\n",
      "\n",
      "1. **Contact Information**: 5/5\n",
      "   - Clear and professional contact details including email, phone number, location, and LinkedIn profile.\n",
      "\n",
      "2. **Education**: 3.5/5\n",
      "   - Currently pursuing a Bachelor's degree in Business Information System.\n",
      "   - No mention of GPA or relevant coursework.\n",
      "\n",
      "3. **Projects**: 4.5/5\n",
      "   - Four relevant projects showcasing a mix of full-stack development, machine learning, NLP, and deep learning.\n",
      "   - Each project has a brief but clear description.\n",
      "   - Could improve by adding more details on the impact or outcomes of each project.\n",
      "\n",
      "4. **Work Experience**: 2.5/5\n",
      "   - Only one role listed as a Guest Service Agent, which is not directly relevant to data science or AI.\n",
      "   - No mention of internships or other relevant work experience in the field.\n",
      "\n",
      "5. **Skills**: 4.5/5\n",
      "   - Comprehensive list of skills covering data analysis, machine learning, cloud computing, software engineering, and data visualization.\n",
      "   - Well-organized and relevant to the roles advertised (Data Scientist, AI Engineer, Data Analyst).\n",
      "\n",
      "6. **Certificates**: 4/5\n",
      "   - Two certificates listed (IBM Professional Data Science Certificate and Techskills IT Support Level 1).\n",
      "   - Could benefit from additional certifications relevant to AI or machine learning.\n",
      "\n",
      "7. **Languages**: 3.5/5\n",
      "   - Lists three languages (English, Nepali, Hindi).\n",
      "   - No proficiency levels indicated.\n",
      "\n",
      "8. **Additional Qualifications**: 4/5\n",
      "   - Highlights technical expertise, problem-solving abilities, and communication skills.\n",
      "   - Well-articulated but could benefit from specific examples or achievements.\n",
      "\n",
      "9. **Formatting and Design**: 4/5\n",
      "   - Clean and organized layout.\n",
      "   - Use of bold and clear section headers.\n",
      "   - Could improve with more consistent use of bullet points and better spacing for readability.\n",
      "\n",
      "10. **Relevance to Job Description (ASIC Analyst Role)**: 3/5\n",
      "    - Strong data analysis and technical skills relevant to the role.\n",
      "    - Lacks direct experience in financial services or regulatory environments.\n",
      "    - No mention of experience with public reporting, policy development, or stakeholder management, which are key aspects of the role.\n",
      "\n",
      "**Overall Rating**: 3.8/5\n",
      "- The resume effectively showcases Sacheen's technical skills and project experience but could be strengthened with more relevant work experience, additional certifications, and better alignment with the specific requirements of the ASIC Analyst role.\n"
     ]
    }
   ],
   "source": []
  },
  {
   "cell_type": "code",
   "execution_count": null,
   "metadata": {},
   "outputs": [],
   "source": []
  }
 ],
 "metadata": {
  "kernelspec": {
   "display_name": "Python 3",
   "language": "python",
   "name": "python3"
  },
  "language_info": {
   "codemirror_mode": {
    "name": "ipython",
    "version": 3
   },
   "file_extension": ".py",
   "mimetype": "text/x-python",
   "name": "python",
   "nbconvert_exporter": "python",
   "pygments_lexer": "ipython3",
   "version": "3.11.9"
  }
 },
 "nbformat": 4,
 "nbformat_minor": 2
}
