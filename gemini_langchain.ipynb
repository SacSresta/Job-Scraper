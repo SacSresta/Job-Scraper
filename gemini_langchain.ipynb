{
 "cells": [
  {
   "cell_type": "code",
   "execution_count": 70,
   "metadata": {},
   "outputs": [],
   "source": [
    "from langchain_google_genai import ChatGoogleGenerativeAI\n",
    "from langchain.llms import HuggingFaceHub\n",
    "from dotenv import load_dotenv\n",
    "from langchain.prompts import PromptTemplate\n",
    "load_dotenv()\n",
    "api_key = os.getenv('GEMINI_API_KEY')\n",
    "llm = ChatGoogleGenerativeAI(api_key=api_key,model=\"text-bison-001\")\n"
   ]
  },
  {
   "cell_type": "code",
   "execution_count": 33,
   "metadata": {},
   "outputs": [
    {
     "name": "stdout",
     "output_type": "stream",
     "text": [
      "Note: you may need to restart the kernel to use updated packages.\n"
     ]
    },
    {
     "name": "stderr",
     "output_type": "stream",
     "text": [
      "\n",
      "[notice] A new release of pip is available: 24.0 -> 24.3.1\n",
      "[notice] To update, run: C:\\Users\\sachi\\AppData\\Local\\Microsoft\\WindowsApps\\PythonSoftwareFoundation.Python.3.11_qbz5n2kfra8p0\\python.exe -m pip install --upgrade pip\n"
     ]
    }
   ],
   "source": [
    "%pip install -qU langchain-google-genai"
   ]
  },
  {
   "cell_type": "code",
   "execution_count": 72,
   "metadata": {},
   "outputs": [],
   "source": [
    "from langchain_google_genai import ChatGoogleGenerativeAI\n",
    "\n",
    "llm = ChatGoogleGenerativeAI(\n",
    "    model=\"gemini-1.5-pro\",\n",
    "    temperature=0,\n",
    "    max_tokens=None,\n",
    "    timeout=None,\n",
    "    max_retries=2,\n",
    "    # other params...\n",
    ")"
   ]
  },
  {
   "cell_type": "code",
   "execution_count": 73,
   "metadata": {},
   "outputs": [
    {
     "data": {
      "text/plain": [
       "ChatGoogleGenerativeAI(model='models/gemini-1.5-pro', google_api_key=SecretStr('**********'), temperature=0.0, max_retries=2, client=<google.ai.generativelanguage_v1beta.services.generative_service.client.GenerativeServiceClient object at 0x00000218DB33CB90>, default_metadata=())"
      ]
     },
     "execution_count": 73,
     "metadata": {},
     "output_type": "execute_result"
    }
   ],
   "source": [
    "llm"
   ]
  },
  {
   "cell_type": "code",
   "execution_count": 74,
   "metadata": {},
   "outputs": [],
   "source": [
    "import pandas as pd"
   ]
  },
  {
   "cell_type": "code",
   "execution_count": 75,
   "metadata": {},
   "outputs": [],
   "source": [
    "import PyPDF2\n",
    "\n",
    "def extract_text_from_pdf(file_path):\n",
    "    text = \"\"\n",
    "    with open(file_path, 'rb') as pdf_file:\n",
    "        reader = PyPDF2.PdfReader(pdf_file)\n",
    "        for page in reader.pages:\n",
    "            text += page.extract_text()\n",
    "    return text\n"
   ]
  },
  {
   "cell_type": "code",
   "execution_count": 76,
   "metadata": {},
   "outputs": [],
   "source": [
    "df = pd.read_csv('merged_df.csv')\n"
   ]
  },
  {
   "cell_type": "code",
   "execution_count": 77,
   "metadata": {},
   "outputs": [
    {
     "name": "stdout",
     "output_type": "stream",
     "text": [
      "{'resume': 'Sacheen Shrestha\\nData Scientist | AI Engineer | Data Analyst\\nsachin.shrestha42@gmail.com 0415129055 Sydney,Australia \\nlinkedin.com/in/sacheen-shrestha-338129299 \\nEDUCATION\\nBachelor of Business Information \\nSystem, Australian Institute of Higher \\nEducation\\n07/2022 – present | Sydney, Australia\\nPROJECTS\\nBasana Boutique, \\nFullstack Website using Django\\nDeveloped a fully functional e-commerce site \\ntailored for client requirements, handling \\nall aspects from design to deployment using \\nDjango, HTML, and CSS.\\nTrading Bot, \\nTrading Bot Build on NNFX algorithm\\nBuilt a fully automated trading bot capable \\nof executing orders based on the NNFX \\nalgorithm, utilizing Python and API \\nintegration for market analysis.\\nMovie Recommender System, \\nNLP | Machine Learning\\nCreated a recommendation system using NLP \\ntechniques and collaborative filtering to \\nprovide personalized movie suggestions.\\nText_Summarization, \\nNLP | Deep Learning Project\\nDeveloped a text summarization model \\nutilizing the DistilBERT architecture for \\nefficient text processing and summarization.\\nADDITONAL QUALIFICATIONS\\nGuest Service Agent, \\nPARKROYAL DarlingHarbour\\npresent | Sydney, AustraliaHighly accomplished data science\\nprofessional with expertise in machine\\nlearning, AI, and data analysis. Proven\\nability to distill complex datasets into\\nactionable insights, inform strategic\\ndecision-making, and pioneer innovative AI\\nsolutions.\\nSKILLS\\nData Analysis & Science\\nPython, SQL, Statistical Analysis, \\nData Mining, Data Visualization\\nMachine Learning & AI\\nTensorFlow, Deep Learning, Scikit-\\nLearn, Predictive Modeling, Natural \\nLanguage Processing, Pytorch\\nCloud Computing\\nAWS, Azure, Cloud Platforms\\nData-Driven Decision Making\\nA/B Testing, Experimental Design, Data \\nStorytelling\\nSoftware Engineering/Programming \\nLanguage\\nObject-Oriented Programming(OOP), \\nJava, Python, C++, \\nVersion Control\\nGit, Github\\nData Visualization\\nPower-BI, Tabluea, Seaborn, \\nMatplotlib, Plotly\\nCERTIFICATES\\nIBM Professional Data Science \\nCertificate\\nTechskills IT Support Level 1LANGUAGES\\nEnglish\\nNepali\\nHindiADDDITIONAL QUALIFICATION\\n•Technical Expertise: Strong knowledge of \\ndata models, database design, and data \\nmining techniques.\\n•Problem-Solving Abilities: Proven \\nanalytical skills with a keen attention to \\ndetail and accuracy in data \\ninterpretation.\\n•Communication Skills: Strong verbal and \\nwritten communication abilities to present \\ncomplex data findings in a clear and \\nactionable format.', 'job_description': \"Hybrid Working Environment\\nQLD location ideally, open to NSW or VIC\\nWe’re never just satisfied with how things are – because we know how things could be. And it’s our expert Technology team who forge ahead every day to make those ‘what ifs’ a reality.\\nAs a Senior Data System Analyst, you will play a crucial role as the liaison between business requirements and technical data solutions, with a primary focus on optimizing data-related aspects within our organisation. We are requiring a new Senior Data Systems Analyst in our Customer Platforms team. \\nIn this role, you will be dedicated to ensuring that data systems and processes effectively support our organization's strategic objectives and operational needs. As a key subject matter expert on data systems, flows, integrations, and analytics, you will possess a deep understanding of how data flows throughout the organisation. Your expertise will extend not only to the systems themselves but also to the context in which the business uses and leverages the available information.\\nDrawing upon this comprehensive knowledge, Senior Data System Analysts will guide technology deliverables to ensure that outcomes are fit for purpose and align with stakeholder needs. Your contribution will be pivotal in driving the optimization of our data systems to meet the evolving requirements of the organization.\\n  What you’ll do\\nConduct in-depth analysis of business processes, identify improvement opportunities, and define requirements to address business needs\\nManage and maintain a comprehensive set of requirements, ensuring they are well-documented, traceable, and prioritized\\nLead and execute comprehensive testing of business processes, ensuring that they meet established requirements and performance criteria\\nIdentify and assess risks associated with Data and Business Systems. Develop risk mitigation plans and work with stakeholders to ensure the successful management of risks\\nAnalyse and report on business data to support decision-making processes\\nLead efforts to redesign and optimize business processes.\\nFoster and manage relationships with key business stakeholders to understand their needs and ensure IT solutions align with business objectives\\nWhat you’ll bring\\nTertiary qualifications in IT, Business, or associated field (Mandatory)\\n6+ years of experience in a data-related role, in a primarily analyst type capacity\\nCustomer Master Data Management (MDM) experience & Strong Data Mapping skills\\nProficiency in managing complex and detailed requirements through their lifecycle, ensuring alignment with business goals and technological capabilities\\nAdvanced skills in data analysis, including complex data manipulation, statistical analysis, or predictive modeling\\nExpertise in analysing intricate business processes and workflows, identifying inefficiencies, and proposing optimizations or reengineering strategies\\nMastery of Agile methodologies (e.g., Scrum, Kanban) and other project management methodologies for efficient and adaptive project execution\\nStrong leadership, strategic thinking, stakeholder management, and negotiation skills essential for guiding complex IT initiatives\\nWhat we can offer\\nA range of flexible working and leave options, including 20 weeks paid parental leave, 4 weeks paid secondary carer parental leave and unlimited paid emergency response leave\\nDiscounts and offers on a range of retail favourite stores as well as banking and insurance products\\nGive back to our communities with payroll giving, donation matching and paid volunteer leave\\nInvest in your brighter future with ongoing study support and career development programs; and\\nPrioritise your work/life balance with our robust employee assistance program and dedicated employee council\\nEmployee benefits | Suncorp Group\\n \", 'input': 'Please write a compelling and complete cover letter without leaving any section blank, and use the name from the resume if not found leave but no placeholders', 'text': '[Your Name/Address]\\n[City, Postal Code]\\n[Phone Number]\\n[Email Address]\\n\\n[Date]\\n\\n[Hiring Manager Name (if known), or \"Hiring Team\"]\\n[Company Name]\\n[Company Address]\\n[City, Postal Code]\\n\\nDear [Hiring Manager or Hiring Team],\\n\\nI am writing to express my keen interest in the Senior Data System Analyst position at Suncorp Group, as advertised on [Platform where you saw the ad - e.g., LinkedIn].  Having closely followed Suncorp\\'s innovative approach to technology and its commitment to continuous improvement, I am confident that my skills and experience align perfectly with the requirements of this role and the company\\'s forward-thinking culture.\\n\\nWhile my background encompasses a range of data-focused roles, including data science, AI engineering, and data analysis, my recent projects and academic pursuits have increasingly centered on the analytical and system-oriented aspects that are central to this position.  For example, developing the Basana Boutique e-commerce website provided me with valuable experience in understanding business requirements, translating them into technical solutions using Django and other technologies, and managing the entire project lifecycle.  Furthermore, my current studies in Business Information Systems at the Australian Institute of Higher Education are equipping me with the formal knowledge and frameworks necessary to excel in a senior analyst role.\\n\\nMy skills in data analysis, including statistical analysis, data mining, and visualization using tools like Power BI and Tableau, are directly applicable to the responsibilities outlined in the job description.  My experience building a trading bot based on the NNFX algorithm demonstrates my proficiency in data manipulation, API integration, and automated systems, which are highly relevant to optimizing data systems and processes.  Although my resume doesn\\'t explicitly list Customer Master Data Management (MDM) experience, my project work involving data integration and system design has provided me with a solid foundation in data governance and management principles, and I am eager to expand my expertise in MDM within Suncorp\\'s dynamic environment.\\n\\nI am a highly motivated and results-oriented individual with a proven ability to analyze complex data sets, identify opportunities for improvement, and communicate insights effectively to both technical and non-technical audiences.  My experience in customer-facing roles, such as my current position as a Guest Service Agent at PARKROYAL Darling Harbour, has honed my communication and stakeholder management skills, which are crucial for collaborating effectively with business stakeholders and ensuring IT solutions meet their needs.\\n\\nI am particularly drawn to Suncorp\\'s commitment to a hybrid working environment and its focus on employee well-being. I am eager to contribute to a company that values innovation, collaboration, and continuous improvement.  Thank you for your time and consideration. I look forward to the opportunity to discuss my qualifications further.\\n\\nSincerely,\\n\\nSacheen Shrestha\\n'}\n"
     ]
    }
   ],
   "source": [
    "from langchain_core.prompts import ChatPromptTemplate\n",
    "from langchain.chains import LLMChain\n",
    "\n",
    "prompt = ChatPromptTemplate.from_messages(\n",
    "    [\n",
    "        (\"system\", \"You are an expert cover letter writer. Using the resume: {resume} \"\n",
    "    \"and the job description: {job_description}, craft a professional and tailored cover letter for the user. \"\n",
    "    \"Ensure the letter highlights the user's relevant skills, experience, and accomplishments. \"\n",
    "    \"Make the letter engaging, concise, and error-free.\"\n",
    "    \"Do not include lines such as 'Enclosure: Resume' or 'Attachment'.\"),\n",
    "        (\"human\", \"{input}\"),\n",
    "    ]\n",
    ")\n",
    "\n",
    "# Create the chain\n",
    "chain = LLMChain(prompt=prompt, llm=llm)\n",
    "\n",
    "# Invoke the chain\n",
    "resume = extract_text_from_pdf(r'C:\\Users\\sachi\\OneDrive\\Documents\\JobAutomation\\DataAnalyst-Science.pdf')\n",
    "job_description = str(df['Description'][1])\n",
    "input_text = \"Please write a compelling and complete cover letter without leaving any section blank, and use the name from the resume if not found leave but no placeholders\"\n",
    "\n",
    "response = chain.invoke(\n",
    "    {\n",
    "        \"resume\": resume,\n",
    "        \"job_description\": job_description,\n",
    "        \"input\": input_text,\n",
    "    }\n",
    ")\n",
    "\n",
    "print(response)"
   ]
  },
  {
   "cell_type": "code",
   "execution_count": 78,
   "metadata": {},
   "outputs": [
    {
     "data": {
      "text/plain": [
       "'[Your Name/Address]\\n[City, Postal Code]\\n[Phone Number]\\n[Email Address]\\n\\n[Date]\\n\\n[Hiring Manager Name (if known), or \"Hiring Team\"]\\n[Company Name]\\n[Company Address]\\n[City, Postal Code]\\n\\nDear [Hiring Manager or Hiring Team],\\n\\nI am writing to express my keen interest in the Senior Data System Analyst position at Suncorp Group, as advertised on [Platform where you saw the ad - e.g., LinkedIn].  Having closely followed Suncorp\\'s innovative approach to technology and its commitment to continuous improvement, I am confident that my skills and experience align perfectly with the requirements of this role and the company\\'s forward-thinking culture.\\n\\nWhile my background encompasses a range of data-focused roles, including data science, AI engineering, and data analysis, my recent projects and academic pursuits have increasingly centered on the analytical and system-oriented aspects that are central to this position.  For example, developing the Basana Boutique e-commerce website provided me with valuable experience in understanding business requirements, translating them into technical solutions using Django and other technologies, and managing the entire project lifecycle.  Furthermore, my current studies in Business Information Systems at the Australian Institute of Higher Education are equipping me with the formal knowledge and frameworks necessary to excel in a senior analyst role.\\n\\nMy skills in data analysis, including statistical analysis, data mining, and visualization using tools like Power BI and Tableau, are directly applicable to the responsibilities outlined in the job description.  My experience building a trading bot based on the NNFX algorithm demonstrates my proficiency in data manipulation, API integration, and automated systems, which are highly relevant to optimizing data systems and processes.  Although my resume doesn\\'t explicitly list Customer Master Data Management (MDM) experience, my project work involving data integration and system design has provided me with a solid foundation in data governance and management principles, and I am eager to expand my expertise in MDM within Suncorp\\'s dynamic environment.\\n\\nI am a highly motivated and results-oriented individual with a proven ability to analyze complex data sets, identify opportunities for improvement, and communicate insights effectively to both technical and non-technical audiences.  My experience in customer-facing roles, such as my current position as a Guest Service Agent at PARKROYAL Darling Harbour, has honed my communication and stakeholder management skills, which are crucial for collaborating effectively with business stakeholders and ensuring IT solutions meet their needs.\\n\\nI am particularly drawn to Suncorp\\'s commitment to a hybrid working environment and its focus on employee well-being. I am eager to contribute to a company that values innovation, collaboration, and continuous improvement.  Thank you for your time and consideration. I look forward to the opportunity to discuss my qualifications further.\\n\\nSincerely,\\n\\nSacheen Shrestha\\n'"
      ]
     },
     "execution_count": 78,
     "metadata": {},
     "output_type": "execute_result"
    }
   ],
   "source": [
    "response['text']"
   ]
  },
  {
   "cell_type": "code",
   "execution_count": 56,
   "metadata": {},
   "outputs": [
    {
     "data": {
      "text/plain": [
       "'This resume has some positive aspects but needs significant improvements to be truly effective. I\\'d rate it around 4/10.\\n\\n**Strengths:**\\n\\n* **Skills Section:**  Good listing of technical skills, covering a broad range of data science and related areas.\\n* **Projects Section:**  Includes relevant projects, although they could be described more thoroughly.\\n* **Certifications:** Listing certifications adds credibility.\\n\\n**Weaknesses:**\\n\\n* **Summary/Objective:**  The summary is weak. It uses generic buzzwords (\"Highly accomplished,\" \"Proven ability\") without providing specific examples or quantifiable achievements.  It needs to be rewritten to highlight key accomplishments and career goals.  Tailor it to the specific job you\\'re applying for.\\n* **Project Descriptions:**  While the projects are relevant, the descriptions are too brief.  Use the STAR method (Situation, Task, Action, Result) to provide more context and quantify your contributions.  For example, in the Basana Boutique project, mention the size of the site, the number of products, or any performance improvements you achieved. For the Trading Bot, quantify the returns or success rate.  For the ML projects, mention the metrics used to evaluate performance (e.g., accuracy, precision, recall).\\n* **Education:**  Only listing \"present\" for your Bachelor\\'s degree suggests it\\'s incomplete. If it is in progress, indicate your expected graduation date. If complete, list the completion date.\\n* **Work Experience (Guest Service Agent):**  While any work experience is valuable, this role doesn\\'t seem directly relevant to data science.  Consider removing it or minimizing it, especially if you have more relevant experience to showcase.  Focus on transferable skills like communication and problem-solving if you choose to keep it.\\n* **\"Additional Qualifications\" Section:** This section repeats information already present in the Skills section and uses more generic statements. Remove this section and integrate any relevant details into the Summary or Project descriptions.\\n* **Formatting and Typos:** The resume has some formatting inconsistencies (e.g., inconsistent capitalization, spacing).  There are also typos (\"ADDITONAL QUALIFICATIONS\").  Proofread carefully!\\n* **Tailoring:** The included job description for a Senior Data System Analyst at Suncorp is irrelevant unless you are applying for that specific role.  Resumes should always be tailored to the specific job you\\'re applying for.  Highlight the skills and experiences that are most relevant to the target role.\\n\\n**Key Improvements:**\\n\\n* **Quantify your achievements:** Use numbers and metrics to demonstrate the impact of your work.\\n* **Focus on relevant experience:**  Prioritize experiences and skills that align with the target job.\\n* **Improve the Summary:**  Make it concise, compelling, and tailored to the specific role.\\n* **Expand project descriptions:** Provide more detail and context using the STAR method.\\n* **Proofread carefully:** Eliminate typos and formatting inconsistencies.\\n\\n\\nBy addressing these weaknesses, you can significantly improve your resume and increase your chances of landing an interview.\\n'"
      ]
     },
     "execution_count": 56,
     "metadata": {},
     "output_type": "execute_result"
    }
   ],
   "source": [
    "response['text']"
   ]
  },
  {
   "cell_type": "code",
   "execution_count": null,
   "metadata": {},
   "outputs": [],
   "source": []
  }
 ],
 "metadata": {
  "kernelspec": {
   "display_name": "Python 3",
   "language": "python",
   "name": "python3"
  },
  "language_info": {
   "codemirror_mode": {
    "name": "ipython",
    "version": 3
   },
   "file_extension": ".py",
   "mimetype": "text/x-python",
   "name": "python",
   "nbconvert_exporter": "python",
   "pygments_lexer": "ipython3",
   "version": "3.11.9"
  }
 },
 "nbformat": 4,
 "nbformat_minor": 2
}
